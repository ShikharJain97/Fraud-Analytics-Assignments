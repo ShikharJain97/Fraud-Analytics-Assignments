{
 "cells": [
  {
   "cell_type": "code",
   "execution_count": 1,
   "id": "648bef43",
   "metadata": {},
   "outputs": [],
   "source": [
    "#Let's import all the libraries\n",
    "import matplotlib.pyplot as plt\n",
    "import numpy as np\n",
    "import pandas as pd\n",
    "from sklearn.cluster import KMeans\n",
    "from sklearn.preprocessing import normalize"
   ]
  },
  {
   "cell_type": "code",
   "execution_count": 2,
   "id": "823b20d5",
   "metadata": {},
   "outputs": [
    {
     "name": "stdout",
     "output_type": "stream",
     "text": [
      "(1199, 10)\n"
     ]
    }
   ],
   "source": [
    "#Let's load the dataset as numpy array\n",
    "path = \"C:/Users/sanka/Downloads/Data.csv\"\n",
    "dataset = pd.read_csv(path)\n",
    "X = normalize(dataset.to_numpy())\n",
    "print(X.shape)"
   ]
  },
  {
   "cell_type": "code",
   "execution_count": 3,
   "id": "d1f179a2",
   "metadata": {},
   "outputs": [],
   "source": [
    "#As per the elbow method, let us set the initial number of clusters in spectral clustering as 9\n",
    "K = 9\n",
    "#Let us initialize the variance as 1 for the sake of normalization\n",
    "sigma = 1"
   ]
  },
  {
   "cell_type": "code",
   "execution_count": 10,
   "id": "d2c0e794",
   "metadata": {},
   "outputs": [],
   "source": [
    "#Let's calculate the similarity matrix using adjacency matrix and use gaussian similarity\n",
    "def normal_distribution(a, b):\n",
    "    return np.exp(-1 * (np.linalg.norm(a - b) ** 2)) / (2 * (sigma ** 2))  \n",
    "# e^-(a-b)^2/2*sigma^2"
   ]
  },
  {
   "cell_type": "code",
   "execution_count": 11,
   "id": "a8dc5458",
   "metadata": {},
   "outputs": [],
   "source": [
    "def adjacency_matrix(X):\n",
    "    adj_mat = np.zeros((X.shape[0], X.shape[0]))\n",
    "    for i in range(X.shape[0]):\n",
    "        for j in range(X.shape[0]):\n",
    "            if(i == j):\n",
    "                adj_mat[i][j] = 0\n",
    "            else:\n",
    "                adj_mat[i][j] = normal_distribution(X[i], X[j])\n",
    "                \n",
    "    #Let's consider \"K\" most similar elements\n",
    "    for i in range(X.shape[0]):\n",
    "        idx = np.argsort(-adj_mat[i])\n",
    "        for j in range(X.shape[0]):\n",
    "            if(K < idx[j]):\n",
    "                adj_mat[i][j] = 0\n",
    "    \n",
    "    #Let's make adjacency matrix as undirected graph\n",
    "    for i in range(X.shape[0]):\n",
    "        for j in range(X.shape[0]):\n",
    "            adj_mat[i][j] = max(adj_mat[i][j], adj_mat[j][i])\n",
    "            \n",
    "    return adj_mat"
   ]
  },
  {
   "cell_type": "code",
   "execution_count": 12,
   "id": "76879d5c",
   "metadata": {},
   "outputs": [],
   "source": [
    "adj_matrix = adjacency_matrix(X)"
   ]
  },
  {
   "cell_type": "code",
   "execution_count": 13,
   "id": "666c70fb",
   "metadata": {},
   "outputs": [],
   "source": [
    "#Now, let us calculate Normalized Laplacian Matrix\n",
    "def normalized_laplacian(adj_matrix):\n",
    "    D = np.diag(adj_matrix.sum(axis=1))\n",
    "    D_inv = np.linalg.inv(D)\n",
    "    D_inv_sqrt = np.sqrt(D_inv)\n",
    "    norm_laplacian = np.identity(adj_matrix.shape[0], dtype=float) - np.matmul(D_inv_sqrt, np.matmul(adj_matrix, D_inv_sqrt))\n",
    "    return norm_laplacian"
   ]
  },
  {
   "cell_type": "code",
   "execution_count": 15,
   "id": "fc1cd4f7",
   "metadata": {},
   "outputs": [],
   "source": [
    "laplacian = normalized_laplacian(adj_matrix)"
   ]
  },
  {
   "cell_type": "code",
   "execution_count": 20,
   "id": "528542ce",
   "metadata": {},
   "outputs": [],
   "source": [
    "#Let us do eigendecomposition of laplacian to obtain eigenvalues and eigenvectors\n",
    "def plot_eigenvalues(eigenvalues):\n",
    "    plt.ylabel(\"EigenValues\")\n",
    "    plt.xlabel(\"K-Values\")\n",
    "    plt.plot(eigenvalues.tolist(), linestyle=\"--\", marker=\"o\", color=\"g\")\n",
    "    plt.show()\n",
    "    \n",
    "def eigen_decomposition(laplacian):\n",
    "    eigenvalues, eigenvectors = np.linalg.eig(laplacian)\n",
    "    #Sort eigenvectors according to their eigenvalues\n",
    "    eigenvectors = eigenvectors[:, np.argsort(eigenvalues)]\n",
    "    eigenvalues = eigenvalues[np.argsort(eigenvalues)]\n",
    "    plot_eigenvalues(eigenvalues)\n",
    "    return eigenvectors, eigenvalues"
   ]
  },
  {
   "cell_type": "code",
   "execution_count": 21,
   "id": "16e0ac99",
   "metadata": {},
   "outputs": [
    {
     "data": {
      "image/png": "[encoded data removed]",
      "text/plain": [
       "<Figure size 432x288 with 1 Axes>"
      ]
     },
     "metadata": {
      "needs_background": "light"
     },
     "output_type": "display_data"
    }
   ],
   "source": [
    "eigenvectors, eigenvalues = eigen_decomposition(laplacian)"
   ]
  },
  {
   "cell_type": "code",
   "execution_count": 42,
   "id": "d293d72a",
   "metadata": {},
   "outputs": [],
   "source": [
    "#Now, let us perform clustering on reduced eigenspace as follows\n",
    "def reduced_clustering(eigenvectors, eigenvalues):\n",
    "    # We count the number of clusters and then find the index of maximum difference in eigenvalues\n",
    "    num_clusters = -1\n",
    "    max_diff = 0\n",
    "    for i in range(len(eigenvalues)-1):\n",
    "        if(eigenvalues[i+1] - eigenvalues[i] > max_diff):\n",
    "            num_clusters = i + 1\n",
    "            max_diff = eigenvalues[i+1] - eigenvalues[i]\n",
    "    \n",
    "    #K-means clustering on reduced eigenvector space\n",
    "    cluster_labels = KMeans(n_clusters=num_clusters + 1).fit(eigenvectors[:,0:num_clusters]).labels_\n",
    "    \n",
    "    nsamples_cluster = {}\n",
    "    for i in cluster_labels:\n",
    "        if(i not in nsamples_cluster):\n",
    "            nsamples_cluster[i] = 0\n",
    "        nsamples_cluster[i] += 1\n",
    "    \n",
    "    print(\"Eigenvalues = \", eigenvalues)\n",
    "    print(\"Number of Clusters = \", num_clusters+1)\n",
    "    print(\"Cluster Labels = \", cluster_labels)\n",
    "    print('Number of samples in these ',num_clusters+1,' clusters are:' ,nsamples_cluster)\n",
    "    return cluster_labels, nsamples_cluster"
   ]
  },
  {
   "cell_type": "code",
   "execution_count": 43,
   "id": "6e31c119",
   "metadata": {},
   "outputs": [
    {
     "name": "stdout",
     "output_type": "stream",
     "text": [
      "Eigenvalues =  [-1.90358713e-16  4.07092950e-01  5.34133472e-01 ...  1.46121094e+00\n",
      "  1.46290043e+00  1.47376993e+00]\n",
      "Number of Clusters =  2\n",
      "Cluster Labels =  [0 0 0 ... 0 0 0]\n",
      "Number of samples in these  2  clusters are: {0: 1057, 1: 142}\n"
     ]
    }
   ],
   "source": [
    "cluster_labels, nsamples_cluster = reduced_clustering(eigenvectors, eigenvalues)"
   ]
  },
  {
   "cell_type": "code",
   "execution_count": 45,
   "id": "ff1e9c5e",
   "metadata": {},
   "outputs": [
    {
     "name": "stdout",
     "output_type": "stream",
     "text": [
      "Outlier Cluster = Cluster:  1\n"
     ]
    }
   ],
   "source": [
    "#Finally Let us detect outliers\n",
    "# We find the cluster label containing minimum samples\n",
    "outlier_cluster = min(nsamples_cluster, key=nsamples_cluster.get)\n",
    "print(\"Outlier Cluster = Cluster: \",outlier_cluster)"
   ]
  },
  {
   "cell_type": "code",
   "execution_count": 47,
   "id": "1e402201",
   "metadata": {},
   "outputs": [],
   "source": [
    "#Add new column to the dataset \n",
    "point_type = [\"Outlier\" if x == outlier_cluster else \"Inlier\" for x in cluster_labels]\n",
    "dataset[\"Point Type\"] = point_type\n",
    "dataset.to_csv(\"C:/Users/sanka/Downloads/Output.csv\")"
   ]
  }
 ],
 "metadata": {
  "kernelspec": {
   "display_name": "Python 3",
   "language": "python",
   "name": "python3"
  },
  "language_info": {
   "codemirror_mode": {
    "name": "ipython",
    "version": 3
   },
   "file_extension": ".py",
   "mimetype": "text/x-python",
   "name": "python",
   "nbconvert_exporter": "python",
   "pygments_lexer": "ipython3",
   "version": "3.8.8"
  }
 },
 "nbformat": 4,
 "nbformat_minor": 5
}
